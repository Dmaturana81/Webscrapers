{
 "cells": [
  {
   "cell_type": "code",
   "execution_count": null,
   "metadata": {},
   "outputs": [],
   "source": [
    "from selenium import webdriver    # to  control the chrome browser\n",
    "from selenium.webdriver.common.by import By\n",
    "import time\n",
    "from datetime import datetime, date\n",
    "import bs4\n",
    "from bs4 import BeautifulSoup     # to parse the page source\n",
    "import pandas as pd                # to create csv file of scraped user details\n",
    "from selenium.webdriver.common.keys import Keys\n",
    "from selenium.webdriver.support.ui import WebDriverWait\n",
    "from selenium.webdriver.support import expected_conditions as EC\n",
    "from selenium.webdriver.chrome.options import Options\n",
    "import random\n",
    "import re\n",
    "from pathlib import Path\n",
    "from requests.exceptions import RequestException"
   ]
  },
  {
   "cell_type": "code",
   "execution_count": null,
   "metadata": {},
   "outputs": [],
   "source": [
    "url = 'https://www.fredhutch.org/en/faculty-lab-directory.html'\n",
    "base_url = 'https://www.fredhutch.org'"
   ]
  },
  {
   "cell_type": "code",
   "execution_count": null,
   "metadata": {},
   "outputs": [],
   "source": [
    "def create_driver(url):\n",
    "    chrome_options = Options()\n",
    "    chrome_options.headless=True\n",
    "    driver = webdriver.Chrome('/Volumes/Users/matu/Documents/Xcode/chromedriver',options=chrome_options )\n",
    "    driver.get(url)\n",
    "    return driver\n",
    "\n",
    "def scrap_cards(block):\n",
    "    data = {}\n",
    "    try:\n",
    "        data['name'] = block.h3.text\n",
    "        data['url'] = f\"{base_url}{block.div.h4.a.get('href')}\"\n",
    "        ps = block.find('p', attrs={'class':'appt1'})\n",
    "        data['title'] = ps.span.text\n",
    "        data['department'] =ps.contents[-1].strip(' ,').split(',')[0]\n",
    "    except: print(block)\n",
    "    finally:\n",
    "        return data\n",
    "    \n",
    "def load_more(driver):\n",
    "    try:\n",
    "        more = driver.find_element_by_class_name('more')\n",
    "        more.click()\n",
    "        time.sleep(random.randint(7,15))\n",
    "        return True\n",
    "    except:\n",
    "        return False"
   ]
  },
  {
   "cell_type": "code",
   "execution_count": null,
   "metadata": {},
   "outputs": [
    {
     "name": "stderr",
     "output_type": "stream",
     "text": [
      "/Library/Frameworks/Python.framework/Versions/3.7/lib/python3.7/site-packages/ipykernel_launcher.py:4: DeprecationWarning: executable_path has been deprecated, please pass in a Service object\n",
      "  after removing the cwd from sys.path.\n"
     ]
    }
   ],
   "source": [
    "driver = create_driver('https://www.fredhutch.org/en/faculty-lab-directory/beresford-shirley.html')\n",
    "soup = BeautifulSoup(driver.page_source, 'html5')"
   ]
  },
  {
   "cell_type": "code",
   "execution_count": null,
   "metadata": {},
   "outputs": [
    {
     "data": {
      "text/plain": [
       "{'phone': '206.667.4793',\n",
       " 'email': 'sberesfo@fredhutch.org',\n",
       " 'fax': '206.667.5977',\n",
       " 'mail stop': 'm3-b232',\n",
       " 'summary': 'UW Contact Info\\nPhone: 206.543.9512\\nFax: 206.695.9651\\nberesfrd@u.washington.edu\\n',\n",
       " 'job_description': 'Nutritional epidemiology and chronic disease prevention, specifically designed to improve the scientific basis for public health policy and recommendations concerning dietary intake, physical activity and intake of folic acid.'}"
      ]
     },
     "execution_count": null,
     "metadata": {},
     "output_type": "execute_result"
    }
   ],
   "source": [
    "scrap_profile(soup)"
   ]
  },
  {
   "cell_type": "code",
   "execution_count": null,
   "metadata": {},
   "outputs": [],
   "source": [
    "def get_pis(driver):\n",
    "    data = []\n",
    "    while load_more(driver):\n",
    "        continue\n",
    "    soup = BeautifulSoup(driver.page_source, 'html5')\n",
    "    blocks = soup.findAll('div', attrs={'class':'cmp-faculty-and-labs__card'})\n",
    "    for block in blocks:\n",
    "        card = scrap_cards(block)\n",
    "        data.append(card)\n",
    "    return data\n",
    "\n",
    "def get_profiles(driver, pi):\n",
    "    # for pi in data:\n",
    "    driver.get(pi['url'])\n",
    "    time.sleep(random.randint(7,10))\n",
    "    soup = BeautifulSoup(driver.page_source, 'html5')\n",
    "    profile = scrap_profile(soup)\n",
    "    pi.update(profile)\n",
    "    return pi\n",
    "\n",
    "def scrap_profile(soup):\n",
    "    data = {}\n",
    "    # driver.get(url)\n",
    "    soup = BeautifulSoup(driver.page_source, 'html5')\n",
    "    for contact in soup.findAll('div', attrs={'class':'facultyContactInfo__item'}):\n",
    "        key = contact.find('span', attrs={'facultyContactInfo__label'}).text.lower().strip(' :')\n",
    "        data[key] = contact.find('span', attrs={'facultyContactInfo__value'}).text.lower().strip(' :\\n\\t\\r')\n",
    "    texts = soup.findAll('div',attrs={'class':'cmp-text'})\n",
    "    text_blocks = [x for x in texts if not x.div]\n",
    "    data['summary'] = text_blocks[0].p.text if text_blocks[0].p else ''\n",
    "    #Getting research info\n",
    "    research = soup.find('div',attrs={'class':'research-wrapper'})\n",
    "    if research:\n",
    "        data['pos_description'] = research.p.text\n",
    "    else:\n",
    "        research_blocks = [x for x in texts if not x.div and x.h3 and x.h3.text.find('Research')>=0]\n",
    "        if len(research_blocks) > 0:\n",
    "            data['pos_description'] =  \" \".join([x.text for x in research_blocks[0].findAll('p')])\n",
    "    return data        \n"
   ]
  },
  {
   "cell_type": "code",
   "execution_count": null,
   "metadata": {},
   "outputs": [
    {
     "name": "stderr",
     "output_type": "stream",
     "text": [
      "/Library/Frameworks/Python.framework/Versions/3.7/lib/python3.7/site-packages/ipykernel_launcher.py:4: DeprecationWarning: executable_path has been deprecated, please pass in a Service object\n",
      "  after removing the cwd from sys.path.\n"
     ]
    }
   ],
   "source": [
    "driver = create_driver(url)\n",
    "pis = get_pis(driver)"
   ]
  },
  {
   "cell_type": "code",
   "execution_count": null,
   "metadata": {},
   "outputs": [],
   "source": [
    "pi_org = pis.copy()"
   ]
  },
  {
   "cell_type": "code",
   "execution_count": null,
   "metadata": {},
   "outputs": [],
   "source": [
    "profiles = [get_profiles(driver, pi) for pi in pis]"
   ]
  },
  {
   "cell_type": "code",
   "execution_count": null,
   "metadata": {},
   "outputs": [],
   "source": [
    "df = pd.DataFrame(profiles)"
   ]
  },
  {
   "cell_type": "code",
   "execution_count": null,
   "metadata": {},
   "outputs": [
    {
     "data": {
      "text/html": [
       "<div>\n",
       "<style scoped>\n",
       "    .dataframe tbody tr th:only-of-type {\n",
       "        vertical-align: middle;\n",
       "    }\n",
       "\n",
       "    .dataframe tbody tr th {\n",
       "        vertical-align: top;\n",
       "    }\n",
       "\n",
       "    .dataframe thead th {\n",
       "        text-align: right;\n",
       "    }\n",
       "</style>\n",
       "<table border=\"1\" class=\"dataframe\">\n",
       "  <thead>\n",
       "    <tr style=\"text-align: right;\">\n",
       "      <th></th>\n",
       "      <th>name</th>\n",
       "      <th>url</th>\n",
       "      <th>title</th>\n",
       "      <th>department</th>\n",
       "      <th>phone</th>\n",
       "      <th>email</th>\n",
       "      <th>mail stop</th>\n",
       "      <th>summary</th>\n",
       "      <th>job_description</th>\n",
       "      <th>fax</th>\n",
       "      <th>office</th>\n",
       "    </tr>\n",
       "  </thead>\n",
       "  <tbody>\n",
       "    <tr>\n",
       "      <th>0</th>\n",
       "      <td>Jennifer E. Adair, Ph.D.</td>\n",
       "      <td>https://www.fredhutch.org/en/faculty-lab-direc...</td>\n",
       "      <td>Associate Professor</td>\n",
       "      <td>Clinical Research Division</td>\n",
       "      <td>206.667.7110</td>\n",
       "      <td>jadair@fredhutch.org</td>\n",
       "      <td>s3-204</td>\n",
       "      <td>Dr. Jennifer Adair is developing gene therapie...</td>\n",
       "      <td>Gene therapy in hematopoietic stem cells has e...</td>\n",
       "      <td>NaN</td>\n",
       "      <td>NaN</td>\n",
       "    </tr>\n",
       "    <tr>\n",
       "      <th>1</th>\n",
       "      <td>Richard Adeyemi, D.V.M., Ph.D.</td>\n",
       "      <td>https://www.fredhutch.org/en/faculty-lab-direc...</td>\n",
       "      <td>Assistant Professor</td>\n",
       "      <td>Basic Sciences Division</td>\n",
       "      <td>206.667.6263</td>\n",
       "      <td>radeyemi@fredhutch.org</td>\n",
       "      <td>a1-162</td>\n",
       "      <td>Dr. Richard Adeyemi studies how our cells main...</td>\n",
       "      <td>NaN</td>\n",
       "      <td>NaN</td>\n",
       "      <td>NaN</td>\n",
       "    </tr>\n",
       "    <tr>\n",
       "      <th>2</th>\n",
       "      <td>Naveed Ali, M.D.</td>\n",
       "      <td>https://www.fredhutch.org/en/faculty-lab-direc...</td>\n",
       "      <td>Assistant Professor</td>\n",
       "      <td>Clinical Research Division</td>\n",
       "      <td>206.667.5854</td>\n",
       "      <td>nali2@fredhutch.org</td>\n",
       "      <td>d5-310</td>\n",
       "      <td>Dr. Naveed Ali studies new treatment regimens ...</td>\n",
       "      <td>NaN</td>\n",
       "      <td>NaN</td>\n",
       "      <td>NaN</td>\n",
       "    </tr>\n",
       "    <tr>\n",
       "      <th>3</th>\n",
       "      <td>James V. Alvarez, Ph.D.</td>\n",
       "      <td>https://www.fredhutch.org/en/faculty-lab-direc...</td>\n",
       "      <td>Associate Professor</td>\n",
       "      <td>Public Health Sciences Division</td>\n",
       "      <td>206.667.6348</td>\n",
       "      <td>jalvarez@fredhutch.org</td>\n",
       "      <td>m5-c800</td>\n",
       "      <td>Cancer cell biologist Dr. James Alvarez studie...</td>\n",
       "      <td>NaN</td>\n",
       "      <td>NaN</td>\n",
       "      <td>NaN</td>\n",
       "    </tr>\n",
       "    <tr>\n",
       "      <th>4</th>\n",
       "      <td>Benjamin O. Anderson, M.D.</td>\n",
       "      <td>https://www.fredhutch.org/en/faculty-lab-direc...</td>\n",
       "      <td>Professor, Epidemiology</td>\n",
       "      <td>Public Health Sciences Division</td>\n",
       "      <td>206.543.6352</td>\n",
       "      <td>banderso@fredhutch.org</td>\n",
       "      <td>m4-a402</td>\n",
       "      <td>Dr. Ben Anderson is an internationally recogni...</td>\n",
       "      <td>NaN</td>\n",
       "      <td>206.543.8136</td>\n",
       "      <td>NaN</td>\n",
       "    </tr>\n",
       "  </tbody>\n",
       "</table>\n",
       "</div>"
      ],
      "text/plain": [
       "                             name  \\\n",
       "0        Jennifer E. Adair, Ph.D.   \n",
       "1  Richard Adeyemi, D.V.M., Ph.D.   \n",
       "2                Naveed Ali, M.D.   \n",
       "3         James V. Alvarez, Ph.D.   \n",
       "4      Benjamin O. Anderson, M.D.   \n",
       "\n",
       "                                                 url                    title  \\\n",
       "0  https://www.fredhutch.org/en/faculty-lab-direc...      Associate Professor   \n",
       "1  https://www.fredhutch.org/en/faculty-lab-direc...      Assistant Professor   \n",
       "2  https://www.fredhutch.org/en/faculty-lab-direc...      Assistant Professor   \n",
       "3  https://www.fredhutch.org/en/faculty-lab-direc...      Associate Professor   \n",
       "4  https://www.fredhutch.org/en/faculty-lab-direc...  Professor, Epidemiology   \n",
       "\n",
       "                        department         phone                   email  \\\n",
       "0       Clinical Research Division  206.667.7110    jadair@fredhutch.org   \n",
       "1          Basic Sciences Division  206.667.6263  radeyemi@fredhutch.org   \n",
       "2       Clinical Research Division  206.667.5854     nali2@fredhutch.org   \n",
       "3  Public Health Sciences Division  206.667.6348  jalvarez@fredhutch.org   \n",
       "4  Public Health Sciences Division  206.543.6352  banderso@fredhutch.org   \n",
       "\n",
       "  mail stop                                            summary  \\\n",
       "0    s3-204  Dr. Jennifer Adair is developing gene therapie...   \n",
       "1    a1-162  Dr. Richard Adeyemi studies how our cells main...   \n",
       "2    d5-310  Dr. Naveed Ali studies new treatment regimens ...   \n",
       "3   m5-c800  Cancer cell biologist Dr. James Alvarez studie...   \n",
       "4   m4-a402  Dr. Ben Anderson is an internationally recogni...   \n",
       "\n",
       "                                     job_description           fax office  \n",
       "0  Gene therapy in hematopoietic stem cells has e...           NaN    NaN  \n",
       "1                                                NaN           NaN    NaN  \n",
       "2                                                NaN           NaN    NaN  \n",
       "3                                                NaN           NaN    NaN  \n",
       "4                                                NaN  206.543.8136    NaN  "
      ]
     },
     "execution_count": null,
     "metadata": {},
     "output_type": "execute_result"
    }
   ],
   "source": [
    "df.head()"
   ]
  },
  {
   "cell_type": "code",
   "execution_count": null,
   "metadata": {},
   "outputs": [],
   "source": [
    "df.to_csv('/Volumes/Users/matu/Downloads/LB_FH_webpage.csv', index=False)"
   ]
  },
  {
   "cell_type": "code",
   "execution_count": null,
   "metadata": {},
   "outputs": [],
   "source": [
    "def search(query, df):\n",
    "    df = df.copy()\n",
    "    df['lname'] = df.name.apply(lambda x: x.lower())\n",
    "    return df.loc[df.lname.str.contains(query.lower())]"
   ]
  },
  {
   "cell_type": "code",
   "execution_count": null,
   "metadata": {},
   "outputs": [
    {
     "data": {
      "text/html": [
       "<div>\n",
       "<style scoped>\n",
       "    .dataframe tbody tr th:only-of-type {\n",
       "        vertical-align: middle;\n",
       "    }\n",
       "\n",
       "    .dataframe tbody tr th {\n",
       "        vertical-align: top;\n",
       "    }\n",
       "\n",
       "    .dataframe thead th {\n",
       "        text-align: right;\n",
       "    }\n",
       "</style>\n",
       "<table border=\"1\" class=\"dataframe\">\n",
       "  <thead>\n",
       "    <tr style=\"text-align: right;\">\n",
       "      <th></th>\n",
       "      <th>name</th>\n",
       "      <th>url</th>\n",
       "      <th>title</th>\n",
       "      <th>department</th>\n",
       "      <th>phone</th>\n",
       "      <th>email</th>\n",
       "      <th>mail stop</th>\n",
       "      <th>summary</th>\n",
       "      <th>job_description</th>\n",
       "      <th>fax</th>\n",
       "      <th>office</th>\n",
       "      <th>lname</th>\n",
       "    </tr>\n",
       "  </thead>\n",
       "  <tbody>\n",
       "  </tbody>\n",
       "</table>\n",
       "</div>"
      ],
      "text/plain": [
       "Empty DataFrame\n",
       "Columns: [name, url, title, department, phone, email, mail stop, summary, job_description, fax, office, lname]\n",
       "Index: []"
      ]
     },
     "execution_count": null,
     "metadata": {},
     "output_type": "execute_result"
    }
   ],
   "source": [
    "search('kristina', df)"
   ]
  },
  {
   "cell_type": "code",
   "execution_count": null,
   "metadata": {},
   "outputs": [],
   "source": []
  }
 ],
 "metadata": {
  "kernelspec": {
   "display_name": "Python 3",
   "language": "python",
   "name": "python3"
  }
 },
 "nbformat": 4,
 "nbformat_minor": 4
}
