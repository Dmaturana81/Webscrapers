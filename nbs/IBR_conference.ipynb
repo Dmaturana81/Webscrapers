{
 "cells": [
  {
   "cell_type": "code",
   "execution_count": null,
   "id": "0fb7e6fa-9bb1-4ceb-a448-5e46f6a07c96",
   "metadata": {},
   "outputs": [],
   "source": [
    "#| hide\n",
    "from nbdev.showdoc import *"
   ]
  },
  {
   "cell_type": "code",
   "execution_count": null,
   "id": "2638263e-35ae-4a88-ad8c-5b122344b96c",
   "metadata": {},
   "outputs": [],
   "source": [
    "#| export\n",
    "from selenium import webdriver    # to  control the chrome browser\n",
    "from selenium.webdriver.common.by import By\n",
    "from selenium.webdriver.common.keys import Keys\n",
    "from selenium.webdriver.support.ui import WebDriverWait\n",
    "from selenium.webdriver.support import expected_conditions as EC\n",
    "from selenium.common.exceptions import ElementNotVisibleException, ElementNotSelectableException\n",
    "from selenium.webdriver.chrome.options import Options\n",
    "# from browsermobproxy import Server\n",
    "import pandas as pd\n",
    "from retry import retry\n",
    "from requests.exceptions import RequestException\n",
    "\n",
    "from snavigator.snavigate import *\n",
    "from snavigator.parser import *\n",
    "\n",
    "from leads_scoring.predictions import *\n",
    "\n",
    "from fastai.text.core import *\n",
    "# import os\n",
    "# from dotenv import load_dotenv\n",
    "\n",
    "from bs4 import BeautifulSoup     # to parse the page source\n",
    "import random\n",
    "import time"
   ]
  },
  {
   "cell_type": "code",
   "execution_count": null,
   "id": "f25fa70b-a02b-4427-bc40-16b827e3802d",
   "metadata": {},
   "outputs": [],
   "source": [
    "driver = Navigator(login=False)"
   ]
  },
  {
   "cell_type": "code",
   "execution_count": null,
   "id": "e5507912-2c3d-4e4d-84db-221b8e2c4f9e",
   "metadata": {},
   "outputs": [],
   "source": [
    "url = 'https://www.irbbarcelona.org/en/events/proximity-inducing-pharmacology-targeted-protein-degradation-and-beyond?utm_source=linkedin&utm_medium=social&utm_campaign=biomed-mayor-may23&utm_content=en'"
   ]
  },
  {
   "cell_type": "code",
   "execution_count": null,
   "id": "7aed0898-1616-4971-a6f6-b8b041b100c6",
   "metadata": {},
   "outputs": [],
   "source": [
    "driver.driver.get(url)"
   ]
  },
  {
   "cell_type": "code",
   "execution_count": null,
   "id": "ef0307e0-c4d1-4131-8b33-f2ea13fbfa10",
   "metadata": {},
   "outputs": [],
   "source": [
    "driver.driver.refresh()"
   ]
  },
  {
   "cell_type": "code",
   "execution_count": null,
   "id": "f21272fe-b33d-4006-86f6-9ea31829def5",
   "metadata": {},
   "outputs": [],
   "source": [
    "cookies = driver.driver.find_element(By.CLASS_NAME, 'agree-button')\n",
    "cookies.click()"
   ]
  },
  {
   "cell_type": "code",
   "execution_count": null,
   "id": "7bbb96d9-9e86-4ea2-81bf-2f33b950c76f",
   "metadata": {},
   "outputs": [],
   "source": [
    "tab = driver.driver.find_element(By.ID, 'speakers')\n"
   ]
  },
  {
   "cell_type": "code",
   "execution_count": null,
   "id": "5da9b1be-e8ee-4884-b666-399add70905a",
   "metadata": {},
   "outputs": [],
   "source": [
    "driver.driver.execute_script(f\"window.scrollTo({0}, {tab.location['y']});\")"
   ]
  },
  {
   "cell_type": "code",
   "execution_count": null,
   "id": "64af253d-6a16-4fb1-80e1-3b921a953940",
   "metadata": {},
   "outputs": [],
   "source": [
    "tab.click()"
   ]
  },
  {
   "cell_type": "code",
   "execution_count": null,
   "id": "7cdb9df2-981d-4363-b371-f4ebd6e28909",
   "metadata": {},
   "outputs": [],
   "source": [
    "x = driver.driver.find_elements(By.XPATH, '//div[@class=\"col-md-6 col-lg-4\"]')"
   ]
  },
  {
   "cell_type": "code",
   "execution_count": null,
   "id": "db07268a-161d-447c-989e-cdff4490c61b",
   "metadata": {},
   "outputs": [],
   "source": [
    "def get_info(element):\n",
    "    text = element.find_element(By.TAG_NAME, 'p').text\n",
    "    if  text == '':\n",
    "        return\n",
    "    else:\n",
    "        name, company, location = text.split('\\n',2)\n",
    "        url = element.find_element(By.TAG_NAME, 'a').get_property('href')\n",
    "        return [name.strip('\\n '), company.strip('\\n '), location.strip('\\n '), url]"
   ]
  },
  {
   "cell_type": "code",
   "execution_count": null,
   "id": "afb22ba8-e69e-4089-b3ab-cd7d2c20ae55",
   "metadata": {},
   "outputs": [],
   "source": [
    "data = [get_info(y) for y in x if get_info(y)]"
   ]
  },
  {
   "cell_type": "code",
   "execution_count": null,
   "id": "71121b29-7db0-478a-ae30-d7bc7a03e5cb",
   "metadata": {},
   "outputs": [],
   "source": [
    "for i in data:\n",
    "    driver.driver.get(i[-1])\n",
    "    i.append(rm_useless_spaces(\" \".join([x.text if x.text != '' else rm_useless_spaces(BeautifulSoup(driver.driver.page_source, 'html.parser').text.replace('\\n',' ')) for x in driver.driver.find_elements(By.TAG_NAME, 'p') ])))"
   ]
  },
  {
   "cell_type": "code",
   "execution_count": null,
   "id": "776346ce-c174-45d5-bac3-a4a92e1278cc",
   "metadata": {},
   "outputs": [
    {
     "data": {
      "text/plain": [
       "['https://medicine.yale.edu/profile/craig-crews/',\n",
       " ' Craig Crews, PhD < Yale School of Medicine Skip to Main ContentInformation forAbout YSMFacultyStaffStudentsResidents & FellowsPatientsResearchersAlumniMENUYSM HomeINFORMATION FORAbout YSMFacultyStaffStudentsResidents & FellowsPatientsResearchersAlumniAbout YSMHistory, Facts & FiguresLeadership & AdministrationYSM Dean & Deputy DeansYSM AdministrationDepartment ChairsYSM Executive GroupYSM Board of Permanent OfficersFaculty Advisory CouncilFAC DocumentsCommittees & WorkgroupsAppointments & Promotions CommitteesAd Hoc Committees and Working GroupsCurrent SearchesChair SearchesLeadership SearchesOrganization ChartsState of the SchoolFaculty Demographic DataProfessionalism Reporting Data2022 Diversity Engagement SurveyState of the School ArchiveOffice of the DeanBeyond Sterling HallDean\\'s WorkshopCOVID-19 Series WorkshopsPrevious WorkshopsMission Statement & ProcessDepartments & SectionsFind PeopleGiving to YSMCancerData ScienceHealth EquityInflammationNeuroscienceEducationGlobal HealthPolicies & ProceduresContact UsA-Z Websites & ListsA-to-Z WebsitesA to Z YSM Lab WebsitesA-Z Faculty ListA-Z Staff ListA to Z AbbreviationsPatient CareNewsBeyond Sterling HallYale Medicine MagazineIssues ListPrint Magazine PDFsMedicine@YaleIssues ListPrint Newsletter PDFsYSM Events NewsletterSocial MediaScience et al PodcastEducationMD ProgramMD/PhD ProgramPA ProgramPA Online ProgramPhD, Master’s, & Joint MD ProgramsVisiting Student ProgramsPublic Health ProgramsResidency & Fellowship ProgramsEducator OpportunitiesOffice of the Deputy DeanOrganizational ChartDiversityWho We AreDept. Diversity Vice Chairs & ChampionsFor Faculty & StaffDean’s Advisory Council on Lesbian, Gay, Bisexual, Transgender, Queer and Intersex Affairs WebsiteMinority Organization for Retention and Expansion WebsiteOffice for Women in Medicine and ScienceCommittee on the Status of Women in Medicine WebsiteDirector of Scientist Diversity and InclusionDiversity SupplementsFor Students, Trainees, & PostdocsYSM Science Fellows ProgramFrequently Asked QuestionsDean’s Advisory Council on Lesbian, Gay, Bisexual, Transgender, Queer and Intersex Affairs WebsiteDiversity, Inclusion, Community Engagement, and Equity WebsiteMedical Student Council WebsiteDiversity Supplements oSTEM.grad@Yale WebsiteResident Fellow Senate WebsiteSACNAS Chapter at Yale Facebook PageWomen in Science at YaleYale BBS Diversity & Inclusion CollectiveYale Black Postdoc AssociationAbout UsPeopleWhat We DoNewsYale Ciencia InitiativeStrategic InitiativesRecruitmentRetentionInclusionBy Department & ProgramNews & EventsProgram for Art in Public SpacesExecutive CommitteeAIDSAperture: Women in MedicineSelf-ReflectionPortraits of StrengthEvent Photo GalleriesAdditional SupportAnti-Racism ResourcesResearchResearch by KeywordResearch by DepartmentResearch by Global LocationTranslational ResearchResearch Cores & ServicesResources for InvestigatorsTeam ScienceProgram for the Promotion of Interdisciplinary Team Science (POINTS)StudiosPhysician-Scientist & Scientist DevelopmentHealth Equity ResearchAbout UsCommunity-Engaged Research (CEnR)CEnR Steering CommitteeExperiential Learning SubcommitteeResourcesOHER NewsYSM BiobankGoals & ObjectivesInventoryPricingContact UsEmbryonic Stem Cell Research OversightCOVID-19 ResearchMapping COVID-19 DataCOVID-19 Vaccinations in CTCase MapsCOVID-19 in Connecticut SchoolsConnecticut Towns COVID-19 Impact DashboardConnecticut Town 14-Day Cases Time LapseCT Correctional Facilities with COVID Cases DashboardConnecticut COVID Presence MapCT Nursing Homes with COVID-19 CasesU.S. COVID Presence MapCOVID-19 Case Density by US CountyGlobal Cases DashboardTime-Lapse of Global SpreadCOVID-19 & Temperature DashboardUS Racial and Ethnic Disparities in COVID-19 MortalityChildcare Survey and Data DisplayRisk of Complications Conditional on COVID-19 InfectionGeographic AccessTravel Time to COVID Testing Sites in ConnecticutTravel Time to COVID Testing Sites in the USProject TeamPeer-Reviewed Publications by Yale AuthorsFacultyAcademic & Professional DevelopmentPhysician-Scientist & Scientist DevelopmentJaneway SocietyMembershipFirst FridaysYale Physician-Scientist Development AwardsYale International Physician-Scientist Resident and Fellow Research AwardResourcesGrant LibraryGrant Writing CourseMock Study SectionResearch Paper WritingFunding OpportunitiesNewsEducator OpportunitiesVoluntary Faculty Teaching OpportunitiesFaculty Engagement OpportunitiesTeaching & Learning CenterContinuing Medical EducationMaster of Health ScienceFaculty DirectoryA-Z Faculty ListDownloadHi-Res PhotoCraig Crews, PhDJohn C. Malone Professor of Molecular, Cellular, and Developmental Biology and Professor of Chemistry, of Pharmacology, and of Management; Executive Director, Yale Center for Molecular DiscoveryContact InformationCraig Crews, PhDOffice203.432.9364Lab203.432.6553Emailcraig.crews@yale.eduMailing AddressYale UniversityP.O. Box 208103New Haven, CT 06520-8103United StatesCrews Laboratory HomepageDownload CVRelated LinksCrews LabYale Center for Molecular DiscoveryBiographyResearch & PublicationsNewsDownloadHi-Res PhotoBiographyDr. Crews is the John C. Malone\\xa0Professor of Molecular, Cellular and Developmental Biology and holds joint appointments in the departments of Chemistry and Pharmacology at Yale University. He graduated from the U.Virginia with a B.A. in Chemistry and received his Ph.D. from Harvard University in Biochemistry. Dr. Crews has a foothold in both the academic and biotech arenas; on the faculty at Yale since 1995, his laboratory has pioneered the use of small molecules to control intracellular protein levels. In 2003, he co-founded Proteolix, Inc., whose proteasome inhibitor, Kyprolis™ received FDA approval for the treatment of multiple myeloma. Since Proteolix’s purchase by Onyx Pharmaceuticals in 2009, Dr. Crews has focused on a new drug development technology, which served as the founding intellectual property for his latest New Haven-based biotech venture, Arvinas, Inc. Currently, Dr. Crews serves on several editorial boards and was Editor of Cell Chemical Biology (2008-2018). In addition, he has received numerous awards and honors, including the 2013 CURE Entrepreneur of the Year Award, 2014 Ehrlich Award for Medicinal Chemistry, 2015 Yale Cancer Center Translational Research Prize, a NIH R35 Outstanding Investigator Award (2015),\\xa0 the AACR Award for Chemistry in Cancer Research (2017), Khorana Prize from the Royal Society of Chemistry (2018), Pierre Fabre\\xa0Award for Therapeutic Innovation (2018), the Pharmacia-ASPET Award for Experimental Therapeutics (2019), the Heinrich Wieland Prize (2020) and the Scheele Prize (2021).\\xa0\\xa0In 2019, he was named an American Cancer Society Professor and received the Connecticut Medal of Technology in 2022.Education & TrainingCancer Research Institute Postdoctoral FellowHarvard University (1995)PhDHarvard University, Biochemistry and Molecular Biology (1992)DAAD FellowUniversität Tübingen (1987)BAUniversity of Virginia, Chemistry (1986)Honors & RecognitionAwardAwarding OrganizationDateMedal of TechnologyConnecticut Academy of Science and Engineering2022Irving Weinstein Foundation Distinguished LectureshipAmerican Association for Cancer Research (AACR)2022Honorary Doctoral Degree (doctor rerum naturalium honoris causa)Technical University Dortmund2021Scheele PrizeSwedish Pharmaceutical Society2021Award for Experimental TherapeuticsPharmacia-ASPET2019Research ProfessorshipAmerican Cancer Society2019Award for Therapeutic InnovationPierre Fabré2018Khorana PrizeRoyal Society of Chemistry2018Award for Outstanding Achievement in Chemistry in Cancer ResearchAmerican Association for Cancer Research2017Translational Research PrizeYale Cancer Center2015Outstanding Investigator Award (R35)National Cancer Institute (NIH)2015Connecticut Academy of Science and Engineering2015FellowAmerican Association for the Advancement of Science (AAAS)2014UCB-Ehrlich Award for Excellence in Medicinal ChemistryEuropean Federation of Medicinal Chemistry2014Entrepreneur of the Year 2013Connecticut United for Research Excellence (CURE)2013Senior Scholar in AgingEllison Medical Foundation2011Guest ProfessorUniversity of Konstanz2010Lewis B. Cullman Professor of MCDBYale University2010Bessel Research AwardAlexander von Humboldt Foundation2006FellowRoyal Society of Chemistry (UK)2005Arthur Greer Memorial Prize for Outstanding Junior Faculty Member in the Social or Natural SciencesYale University1999CaPCURE Research PrizeAssoc. for the Cure of Cancer of the Prostate1996New Investigator AwardBurroughs Wellcome Fund1996New Investigator AwardDonaghue Foundation1996Professional ServiceOrganizationRoleDatePITCH (Program in Innovative Therapeutics for CT\\'s Health)Founder of a biotech accelerator focused on translating biological and biomedical discoveries into new biopharma ventures.2016 - PresentChemBioChemEditorial Advisory Board2010 - PresentCell Chemical Biology (formerly Chemistry & Biology)Editor2007 - PresentNIH Chemistry and Biology Interface Training GrantPrincipal Investigator2003 - PresentCell Chemical Biology (formerly Chemistry & Biology)Editorial Board2001 - 2018Molecular and Cellular ProteomicsEditorial Board2001 - 2009Departments & OrganizationsBiochemistry, Quantitative Biology, Biophysics and Structural Biology (BQBS)Dean\\'s WorkshopsDevelopmental TherapeuticsDiabetes Research CenterMolecular Cell Biology, Genetics and DevelopmentSecondary FacultyYale Cancer CenterYale Combined Program in the Biological and Biomedical Sciences (BBS)Yale CTAPYale Stem Cell CenterYale VenturesEdit Profile333 Cedar StreetNew Haven, CT 06510Maps & DirectionsPioneeringEducation, Patient Care& ResearchSupport Us330 Eventsyou could attend in February 2023CalendarContact UsIntranetSite EditorAccessibility at YSMTerms & Privacy PolicyYale UniversityYale PhonebookLibrary & Reference© 2023 Yale School of Medicine. Updated 07/15/2019We use cookies and other tools to enhance your experience and analyze web trends. By using this website, you agree to its use of cookies. To learn more, please review our Privacy Policy.Your browser is antiquated and no longer supported on this website. Please update your browser or switch to Chrome, Firefox or Safari. You can update your IE here: https://support.microsoft.com/en-us/help/17621/internet-explorer-downloads [0,1,5,3,105,91]{\"namedChunks\":[\"modules-page-components-ComponentWrapper\",\"modules-profile-components-profile-details-ProfileDetails\",\"modules-footer-components-Footer\"]} [0,1,5,3,108,95]{\"namedChunks\":[\"modules-page-components-ComponentWrapper\",\"modules-profile-components-profile-details-ProfileDetails\",\"modules-footer-components-Footer\"]} John C. Malone Professor of Molecular, Cellular, and Developmental Biology and Professor of Chemistry, of Pharmacology, and of Management; Executive Director, Yale Center for Molecular Discovery Yale University P.O. Box 208103 New Haven, CT 06520-8103 United States Dr. Crews is the John C. Malone Professor of Molecular, Cellular and Developmental Biology and holds joint appointments in the departments of Chemistry and Pharmacology at Yale University. He graduated from the U.Virginia with a B.A. in Chemistry and received his Ph.D. from Harvard University in Biochemistry. Dr. Crews has a foothold in both the academic and biotech arenas; on the faculty at Yale since 1995, his laboratory has pioneered the use of small molecules to control intracellular protein levels. In 2003, he co-founded Proteolix, Inc., whose proteasome inhibitor, Kyprolis™ received FDA approval for the treatment of multiple myeloma. Since Proteolix’s purchase by Onyx Pharmaceuticals in 2009, Dr. Crews has focused on a new drug development technology, which served as the founding intellectual property for his latest New Haven-based biotech venture, Arvinas, Inc. Currently, Dr. Crews serves on several editorial boards and was Editor of Cell Chemical Biology (2008-2018). In addition, he has received numerous awards and honors, including the 2013 CURE Entrepreneur of the Year Award, 2014 Ehrlich Award for Medicinal Chemistry, 2015 Yale Cancer Center Translational Research Prize, a NIH R35 Outstanding Investigator Award (2015), the AACR Award for Chemistry in Cancer Research (2017), Khorana Prize from the Royal Society of Chemistry (2018), Pierre Fabre Award for Therapeutic Innovation (2018), the Pharmacia-ASPET Award for Experimental Therapeutics (2019), the Heinrich Wieland Prize (2020) and the Scheele Prize (2021). In 2019, he was named an American Cancer Society Professor and received the Connecticut Medal of Technology in 2022. We use cookies and other tools to enhance your experience and analyze web trends. By using this website, you agree to its use of cookies. To learn more, please review our Privacy Policy.']"
      ]
     },
     "execution_count": null,
     "metadata": {},
     "output_type": "execute_result"
    }
   ],
   "source": [
    "data[4][-2:]"
   ]
  },
  {
   "cell_type": "code",
   "execution_count": null,
   "id": "1a7f663a-3234-4dbb-815a-1d3cbe9e1ee6",
   "metadata": {},
   "outputs": [
    {
     "ename": "TimeoutException",
     "evalue": "Message: timeout: Timed out receiving message from renderer: 600.000\n  (Session info: chrome=109.0.5414.119)\nStacktrace:\n0   chromedriver                        0x000000010062ff38 chromedriver + 4910904\n1   chromedriver                        0x00000001005afa03 chromedriver + 4385283\n2   chromedriver                        0x00000001001f4747 chromedriver + 472903\n3   chromedriver                        0x00000001001dd427 chromedriver + 377895\n4   chromedriver                        0x00000001001dd0a0 chromedriver + 376992\n5   chromedriver                        0x00000001001db7f2 chromedriver + 370674\n6   chromedriver                        0x00000001001dbbb4 chromedriver + 371636\n7   chromedriver                        0x00000001001da3d1 chromedriver + 365521\n8   chromedriver                        0x00000001001eb8d9 chromedriver + 436441\n9   chromedriver                        0x00000001001d9d16 chromedriver + 363798\n10  chromedriver                        0x00000001001dcb46 chromedriver + 375622\n11  chromedriver                        0x00000001001db7f2 chromedriver + 370674\n12  chromedriver                        0x00000001001dbbb4 chromedriver + 371636\n13  chromedriver                        0x00000001001da3d1 chromedriver + 365521\n14  chromedriver                        0x00000001001e8010 chromedriver + 421904\n15  chromedriver                        0x00000001001d9d16 chromedriver + 363798\n16  chromedriver                        0x00000001001dcb46 chromedriver + 375622\n17  chromedriver                        0x00000001001db7f2 chromedriver + 370674\n18  chromedriver                        0x00000001001dbbb4 chromedriver + 371636\n19  chromedriver                        0x00000001001da3d1 chromedriver + 365521\n20  chromedriver                        0x00000001001e38af chromedriver + 403631\n21  chromedriver                        0x00000001001d9d16 chromedriver + 363798\n22  chromedriver                        0x00000001001dcb46 chromedriver + 375622\n23  chromedriver                        0x00000001001db7f2 chromedriver + 370674\n24  chromedriver                        0x00000001001dbbb4 chromedriver + 371636\n25  chromedriver                        0x00000001001da3d1 chromedriver + 365521\n26  chromedriver                        0x00000001001d2076 chromedriver + 331894\n27  chromedriver                        0x00000001001d9d16 chromedriver + 363798\n28  chromedriver                        0x00000001001d9264 chromedriver + 361060\n29  chromedriver                        0x00000001001d9390 chromedriver + 361360\n30  chromedriver                        0x00000001001d96b9 chromedriver + 362169\n31  chromedriver                        0x00000001001d966f chromedriver + 362095\n32  chromedriver                        0x00000001001f6369 chromedriver + 480105\n33  chromedriver                        0x00000001002797b1 chromedriver + 1017777\n34  chromedriver                        0x000000010025eee3 chromedriver + 909027\n35  chromedriver                        0x000000010022930c chromedriver + 688908\n36  chromedriver                        0x000000010022a88e chromedriver + 694414\n37  chromedriver                        0x00000001005fd1de chromedriver + 4702686\n38  chromedriver                        0x0000000100601b19 chromedriver + 4721433\n39  chromedriver                        0x000000010060928e chromedriver + 4752014\n40  chromedriver                        0x000000010060291a chromedriver + 4725018\n41  chromedriver                        0x00000001005d6b02 chromedriver + 4545282\n42  chromedriver                        0x0000000100621888 chromedriver + 4851848\n43  chromedriver                        0x0000000100621a05 chromedriver + 4852229\n44  chromedriver                        0x0000000100637e5f chromedriver + 4943455\n45  libsystem_pthread.dylib             0x00007fff66650109 _pthread_start + 148\n46  libsystem_pthread.dylib             0x00007fff6664bb8b thread_start + 15\n",
     "output_type": "error",
     "traceback": [
      "\u001b[0;31m---------------------------------------------------------------------------\u001b[0m",
      "\u001b[0;31mTimeoutException\u001b[0m                          Traceback (most recent call last)",
      "\u001b[0;32m/var/folders/8v/lv57p6414hxgcf89_gbsg4f00000gn/T/ipykernel_1192/2809922967.py\u001b[0m in \u001b[0;36m<module>\u001b[0;34m\u001b[0m\n\u001b[0;32m----> 1\u001b[0;31m \u001b[0mdriver\u001b[0m\u001b[0;34m.\u001b[0m\u001b[0mdriver\u001b[0m\u001b[0;34m.\u001b[0m\u001b[0mget\u001b[0m\u001b[0;34m(\u001b[0m\u001b[0mdata\u001b[0m\u001b[0;34m[\u001b[0m\u001b[0;36m4\u001b[0m\u001b[0;34m]\u001b[0m\u001b[0;34m[\u001b[0m\u001b[0;34m-\u001b[0m\u001b[0;36m2\u001b[0m\u001b[0;34m]\u001b[0m\u001b[0;34m)\u001b[0m\u001b[0;34m\u001b[0m\u001b[0;34m\u001b[0m\u001b[0m\n\u001b[0m",
      "\u001b[0;32m~/.local/share/virtualenvs/leads_scoring-a8gq4G-7/lib/python3.7/site-packages/selenium/webdriver/remote/webdriver.py\u001b[0m in \u001b[0;36mget\u001b[0;34m(self, url)\u001b[0m\n\u001b[1;32m    453\u001b[0m         \u001b[0mLoads\u001b[0m \u001b[0ma\u001b[0m \u001b[0mweb\u001b[0m \u001b[0mpage\u001b[0m \u001b[0;32min\u001b[0m \u001b[0mthe\u001b[0m \u001b[0mcurrent\u001b[0m \u001b[0mbrowser\u001b[0m \u001b[0msession\u001b[0m\u001b[0;34m.\u001b[0m\u001b[0;34m\u001b[0m\u001b[0;34m\u001b[0m\u001b[0m\n\u001b[1;32m    454\u001b[0m         \"\"\"\n\u001b[0;32m--> 455\u001b[0;31m         \u001b[0mself\u001b[0m\u001b[0;34m.\u001b[0m\u001b[0mexecute\u001b[0m\u001b[0;34m(\u001b[0m\u001b[0mCommand\u001b[0m\u001b[0;34m.\u001b[0m\u001b[0mGET\u001b[0m\u001b[0;34m,\u001b[0m \u001b[0;34m{\u001b[0m\u001b[0;34m\"url\"\u001b[0m\u001b[0;34m:\u001b[0m \u001b[0murl\u001b[0m\u001b[0;34m}\u001b[0m\u001b[0;34m)\u001b[0m\u001b[0;34m\u001b[0m\u001b[0;34m\u001b[0m\u001b[0m\n\u001b[0m\u001b[1;32m    456\u001b[0m \u001b[0;34m\u001b[0m\u001b[0m\n\u001b[1;32m    457\u001b[0m     \u001b[0;34m@\u001b[0m\u001b[0mproperty\u001b[0m\u001b[0;34m\u001b[0m\u001b[0;34m\u001b[0m\u001b[0m\n",
      "\u001b[0;32m~/.local/share/virtualenvs/leads_scoring-a8gq4G-7/lib/python3.7/site-packages/selenium/webdriver/remote/webdriver.py\u001b[0m in \u001b[0;36mexecute\u001b[0;34m(self, driver_command, params)\u001b[0m\n\u001b[1;32m    442\u001b[0m         \u001b[0mresponse\u001b[0m \u001b[0;34m=\u001b[0m \u001b[0mself\u001b[0m\u001b[0;34m.\u001b[0m\u001b[0mcommand_executor\u001b[0m\u001b[0;34m.\u001b[0m\u001b[0mexecute\u001b[0m\u001b[0;34m(\u001b[0m\u001b[0mdriver_command\u001b[0m\u001b[0;34m,\u001b[0m \u001b[0mparams\u001b[0m\u001b[0;34m)\u001b[0m\u001b[0;34m\u001b[0m\u001b[0;34m\u001b[0m\u001b[0m\n\u001b[1;32m    443\u001b[0m         \u001b[0;32mif\u001b[0m \u001b[0mresponse\u001b[0m\u001b[0;34m:\u001b[0m\u001b[0;34m\u001b[0m\u001b[0;34m\u001b[0m\u001b[0m\n\u001b[0;32m--> 444\u001b[0;31m             \u001b[0mself\u001b[0m\u001b[0;34m.\u001b[0m\u001b[0merror_handler\u001b[0m\u001b[0;34m.\u001b[0m\u001b[0mcheck_response\u001b[0m\u001b[0;34m(\u001b[0m\u001b[0mresponse\u001b[0m\u001b[0;34m)\u001b[0m\u001b[0;34m\u001b[0m\u001b[0;34m\u001b[0m\u001b[0m\n\u001b[0m\u001b[1;32m    445\u001b[0m             \u001b[0mresponse\u001b[0m\u001b[0;34m[\u001b[0m\u001b[0;34m\"value\"\u001b[0m\u001b[0;34m]\u001b[0m \u001b[0;34m=\u001b[0m \u001b[0mself\u001b[0m\u001b[0;34m.\u001b[0m\u001b[0m_unwrap_value\u001b[0m\u001b[0;34m(\u001b[0m\u001b[0mresponse\u001b[0m\u001b[0;34m.\u001b[0m\u001b[0mget\u001b[0m\u001b[0;34m(\u001b[0m\u001b[0;34m\"value\"\u001b[0m\u001b[0;34m,\u001b[0m \u001b[0;32mNone\u001b[0m\u001b[0;34m)\u001b[0m\u001b[0;34m)\u001b[0m\u001b[0;34m\u001b[0m\u001b[0;34m\u001b[0m\u001b[0m\n\u001b[1;32m    446\u001b[0m             \u001b[0;32mreturn\u001b[0m \u001b[0mresponse\u001b[0m\u001b[0;34m\u001b[0m\u001b[0;34m\u001b[0m\u001b[0m\n",
      "\u001b[0;32m~/.local/share/virtualenvs/leads_scoring-a8gq4G-7/lib/python3.7/site-packages/selenium/webdriver/remote/errorhandler.py\u001b[0m in \u001b[0;36mcheck_response\u001b[0;34m(self, response)\u001b[0m\n\u001b[1;32m    247\u001b[0m                 \u001b[0malert_text\u001b[0m \u001b[0;34m=\u001b[0m \u001b[0mvalue\u001b[0m\u001b[0;34m[\u001b[0m\u001b[0;34m\"alert\"\u001b[0m\u001b[0;34m]\u001b[0m\u001b[0;34m.\u001b[0m\u001b[0mget\u001b[0m\u001b[0;34m(\u001b[0m\u001b[0;34m\"text\"\u001b[0m\u001b[0;34m)\u001b[0m\u001b[0;34m\u001b[0m\u001b[0;34m\u001b[0m\u001b[0m\n\u001b[1;32m    248\u001b[0m             \u001b[0;32mraise\u001b[0m \u001b[0mexception_class\u001b[0m\u001b[0;34m(\u001b[0m\u001b[0mmessage\u001b[0m\u001b[0;34m,\u001b[0m \u001b[0mscreen\u001b[0m\u001b[0;34m,\u001b[0m \u001b[0mstacktrace\u001b[0m\u001b[0;34m,\u001b[0m \u001b[0malert_text\u001b[0m\u001b[0;34m)\u001b[0m  \u001b[0;31m# type: ignore[call-arg]  # mypy is not smart enough here\u001b[0m\u001b[0;34m\u001b[0m\u001b[0;34m\u001b[0m\u001b[0m\n\u001b[0;32m--> 249\u001b[0;31m         \u001b[0;32mraise\u001b[0m \u001b[0mexception_class\u001b[0m\u001b[0;34m(\u001b[0m\u001b[0mmessage\u001b[0m\u001b[0;34m,\u001b[0m \u001b[0mscreen\u001b[0m\u001b[0;34m,\u001b[0m \u001b[0mstacktrace\u001b[0m\u001b[0;34m)\u001b[0m\u001b[0;34m\u001b[0m\u001b[0;34m\u001b[0m\u001b[0m\n\u001b[0m",
      "\u001b[0;31mTimeoutException\u001b[0m: Message: timeout: Timed out receiving message from renderer: 600.000\n  (Session info: chrome=109.0.5414.119)\nStacktrace:\n0   chromedriver                        0x000000010062ff38 chromedriver + 4910904\n1   chromedriver                        0x00000001005afa03 chromedriver + 4385283\n2   chromedriver                        0x00000001001f4747 chromedriver + 472903\n3   chromedriver                        0x00000001001dd427 chromedriver + 377895\n4   chromedriver                        0x00000001001dd0a0 chromedriver + 376992\n5   chromedriver                        0x00000001001db7f2 chromedriver + 370674\n6   chromedriver                        0x00000001001dbbb4 chromedriver + 371636\n7   chromedriver                        0x00000001001da3d1 chromedriver + 365521\n8   chromedriver                        0x00000001001eb8d9 chromedriver + 436441\n9   chromedriver                        0x00000001001d9d16 chromedriver + 363798\n10  chromedriver                        0x00000001001dcb46 chromedriver + 375622\n11  chromedriver                        0x00000001001db7f2 chromedriver + 370674\n12  chromedriver                        0x00000001001dbbb4 chromedriver + 371636\n13  chromedriver                        0x00000001001da3d1 chromedriver + 365521\n14  chromedriver                        0x00000001001e8010 chromedriver + 421904\n15  chromedriver                        0x00000001001d9d16 chromedriver + 363798\n16  chromedriver                        0x00000001001dcb46 chromedriver + 375622\n17  chromedriver                        0x00000001001db7f2 chromedriver + 370674\n18  chromedriver                        0x00000001001dbbb4 chromedriver + 371636\n19  chromedriver                        0x00000001001da3d1 chromedriver + 365521\n20  chromedriver                        0x00000001001e38af chromedriver + 403631\n21  chromedriver                        0x00000001001d9d16 chromedriver + 363798\n22  chromedriver                        0x00000001001dcb46 chromedriver + 375622\n23  chromedriver                        0x00000001001db7f2 chromedriver + 370674\n24  chromedriver                        0x00000001001dbbb4 chromedriver + 371636\n25  chromedriver                        0x00000001001da3d1 chromedriver + 365521\n26  chromedriver                        0x00000001001d2076 chromedriver + 331894\n27  chromedriver                        0x00000001001d9d16 chromedriver + 363798\n28  chromedriver                        0x00000001001d9264 chromedriver + 361060\n29  chromedriver                        0x00000001001d9390 chromedriver + 361360\n30  chromedriver                        0x00000001001d96b9 chromedriver + 362169\n31  chromedriver                        0x00000001001d966f chromedriver + 362095\n32  chromedriver                        0x00000001001f6369 chromedriver + 480105\n33  chromedriver                        0x00000001002797b1 chromedriver + 1017777\n34  chromedriver                        0x000000010025eee3 chromedriver + 909027\n35  chromedriver                        0x000000010022930c chromedriver + 688908\n36  chromedriver                        0x000000010022a88e chromedriver + 694414\n37  chromedriver                        0x00000001005fd1de chromedriver + 4702686\n38  chromedriver                        0x0000000100601b19 chromedriver + 4721433\n39  chromedriver                        0x000000010060928e chromedriver + 4752014\n40  chromedriver                        0x000000010060291a chromedriver + 4725018\n41  chromedriver                        0x00000001005d6b02 chromedriver + 4545282\n42  chromedriver                        0x0000000100621888 chromedriver + 4851848\n43  chromedriver                        0x0000000100621a05 chromedriver + 4852229\n44  chromedriver                        0x0000000100637e5f chromedriver + 4943455\n45  libsystem_pthread.dylib             0x00007fff66650109 _pthread_start + 148\n46  libsystem_pthread.dylib             0x00007fff6664bb8b thread_start + 15\n"
     ]
    }
   ],
   "source": [
    "driver.driver.get(data[4][-2])"
   ]
  },
  {
   "cell_type": "code",
   "execution_count": null,
   "id": "2dfee330-423b-4bf3-be04-96d7d212d0e5",
   "metadata": {},
   "outputs": [],
   "source": []
  },
  {
   "cell_type": "code",
   "execution_count": null,
   "id": "30a73be1-fab6-424b-9aa5-69867dcb2af4",
   "metadata": {},
   "outputs": [],
   "source": [
    "pd.DataFrame(data, columns=['Name', 'Company', 'Location', 'url', 'summary'])"
   ]
  },
  {
   "cell_type": "code",
   "execution_count": null,
   "id": "6e24fe2e-5d69-4c19-a667-49a44769638f",
   "metadata": {},
   "outputs": [],
   "source": [
    "classifier = Predictor()"
   ]
  },
  {
   "cell_type": "code",
   "execution_count": null,
   "id": "a55ecc12-f3c8-48a2-9e6a-99890adc6f72",
   "metadata": {},
   "outputs": [],
   "source": [
    "results = classifier.predict_all([x[-1] for x in data])"
   ]
  },
  {
   "cell_type": "code",
   "execution_count": null,
   "id": "66fd56bc-6bbd-493f-bbbb-b6b330be325b",
   "metadata": {},
   "outputs": [
    {
     "data": {
      "text/plain": [
       "[{'molecular glues': 0.9291877746582031,\n",
       "  'interaction': 0.6217832565307617,\n",
       "  'screening': 0.21276263892650604,\n",
       "  'developing': 0.19873261451721191,\n",
       "  'small molecules': 0.1381782442331314,\n",
       "  'antibodies': 0.04055623710155487,\n",
       "  'carriers': 0.03547123819589615,\n",
       "  'membrane proteins': 0.02828773856163025,\n",
       "  'structure': 0.018789110705256462,\n",
       "  'idps': 0.018779926002025604,\n",
       "  'biologics': 0.015109339728951454,\n",
       "  'proteins': 0.011926715262234211,\n",
       "  'engineering': 0.010180285200476646,\n",
       "  'expression': 0.007182150147855282,\n",
       "  'stability': 0.006378083489835262,\n",
       "  'nucleic acids': 0.005037303548306227,\n",
       "  'quality': 0.0025589740835130215,\n",
       "  'characterization': 0.001944308984093368,\n",
       "  'enzymes': 0.0017616928089410067,\n",
       "  'formulation': 0.0006459865253418684,\n",
       "  'peptides': 0.00010233605280518532},\n",
       " {'structure': 0.7453807592391968,\n",
       "  'proteins': 0.5299341082572937,\n",
       "  'characterization': 0.009176552295684814,\n",
       "  'expression': 0.0021087273489683867,\n",
       "  'developing': 0.0011132016079500318,\n",
       "  'biologics': 0.0005549896159209311,\n",
       "  'antibodies': 0.0004920883220620453,\n",
       "  'interaction': 0.0004745949700009078,\n",
       "  'screening': 0.000452251173555851,\n",
       "  'small molecules': 0.0003922322648577392,\n",
       "  'membrane proteins': 0.0003644496900960803,\n",
       "  'nucleic acids': 0.0002855029597412795,\n",
       "  'formulation': 0.0002787478733807802,\n",
       "  'idps': 0.0001999661762965843,\n",
       "  'engineering': 0.0001641104754526168,\n",
       "  'enzymes': 0.00014743134670425206,\n",
       "  'molecular glues': 9.966594370780513e-05,\n",
       "  'carriers': 7.072399603202939e-05,\n",
       "  'peptides': 6.734069029334933e-05,\n",
       "  'quality': 4.564260962069966e-05,\n",
       "  'stability': 9.878115633910056e-06},\n",
       " {'developing': 0.003659724723547697,\n",
       "  'proteins': 0.002298994455486536,\n",
       "  'structure': 0.0012688435381278396,\n",
       "  'biologics': 0.001141378073953092,\n",
       "  'antibodies': 0.001039137365296483,\n",
       "  'interaction': 0.0008384242537431419,\n",
       "  'characterization': 0.0007021275814622641,\n",
       "  'small molecules': 0.0004665889427997172,\n",
       "  'formulation': 0.00045019324170425534,\n",
       "  'expression': 0.0003124924551229924,\n",
       "  'molecular glues': 0.0002844533883035183,\n",
       "  'nucleic acids': 0.0002603780012577772,\n",
       "  'screening': 0.0002601068408694118,\n",
       "  'idps': 0.00017506687436252832,\n",
       "  'membrane proteins': 0.00015188103134278208,\n",
       "  'engineering': 0.00012529832019936293,\n",
       "  'carriers': 0.00011707520025083795,\n",
       "  'stability': 7.704009476583451e-05,\n",
       "  'enzymes': 6.636366015300155e-05,\n",
       "  'quality': 2.755045352387242e-05,\n",
       "  'peptides': 2.4455350285279565e-05},\n",
       " {'molecular glues': 0.9729582667350769,\n",
       "  'small molecules': 0.9306256771087646,\n",
       "  'interaction': 0.8982691764831543,\n",
       "  'proteins': 0.6909455060958862,\n",
       "  'structure': 0.6246145367622375,\n",
       "  'screening': 0.49295586347579956,\n",
       "  'characterization': 0.09901454299688339,\n",
       "  'developing': 0.09428681433200836,\n",
       "  'idps': 0.05128443241119385,\n",
       "  'stability': 0.019835416227579117,\n",
       "  'biologics': 0.01813223958015442,\n",
       "  'expression': 0.015864593908190727,\n",
       "  'enzymes': 0.015415480360388756,\n",
       "  'engineering': 0.01430734433233738,\n",
       "  'nucleic acids': 0.008786995895206928,\n",
       "  'antibodies': 0.006757811643183231,\n",
       "  'formulation': 0.004226547200232744,\n",
       "  'carriers': 0.0038945560809224844,\n",
       "  'membrane proteins': 0.001753383781760931,\n",
       "  'quality': 0.001454464509151876,\n",
       "  'peptides': 0.0005844763363711536},\n",
       " {'developing': 0.006867871154099703,\n",
       "  'interaction': 0.006566708907485008,\n",
       "  'proteins': 0.005283190403133631,\n",
       "  'screening': 0.005170823074877262,\n",
       "  'molecular glues': 0.004308068193495274,\n",
       "  'structure': 0.00365633238106966,\n",
       "  'antibodies': 0.0024099317379295826,\n",
       "  'expression': 0.001567086554132402,\n",
       "  'characterization': 0.0012004279997199774,\n",
       "  'small molecules': 0.0011909350287169218,\n",
       "  'nucleic acids': 0.001172663876786828,\n",
       "  'biologics': 0.0005921918782405555,\n",
       "  'carriers': 0.000402233621571213,\n",
       "  'membrane proteins': 0.00032425898825749755,\n",
       "  'formulation': 0.00030700344359502196,\n",
       "  'stability': 0.00012231995060574263,\n",
       "  'quality': 9.974885324481875e-05,\n",
       "  'idps': 9.404718730365857e-05,\n",
       "  'peptides': 8.791625441517681e-05,\n",
       "  'engineering': 7.970066508278251e-05,\n",
       "  'enzymes': 6.913620745763183e-05},\n",
       " {'molecular glues': 0.9949262142181396,\n",
       "  'interaction': 0.4862261116504669,\n",
       "  'developing': 0.4416743218898773,\n",
       "  'small molecules': 0.30202972888946533,\n",
       "  'screening': 0.1672545075416565,\n",
       "  'proteins': 0.08873855322599411,\n",
       "  'biologics': 0.026901479810476303,\n",
       "  'characterization': 0.02538299933075905,\n",
       "  'structure': 0.014159140177071095,\n",
       "  'antibodies': 0.005470833275467157,\n",
       "  'expression': 0.004203802440315485,\n",
       "  'stability': 0.003914561588317156,\n",
       "  'enzymes': 0.0034481841139495373,\n",
       "  'nucleic acids': 0.0029344495851546526,\n",
       "  'idps': 0.002521309070289135,\n",
       "  'membrane proteins': 0.0024345489218831062,\n",
       "  'formulation': 0.0022528311237692833,\n",
       "  'carriers': 0.0014829807914793491,\n",
       "  'quality': 0.0014564256416633725,\n",
       "  'engineering': 0.0009453438688069582,\n",
       "  'peptides': 0.0005152423400431871},\n",
       " {'developing': 0.002285710070282221,\n",
       "  'antibodies': 0.0020948827732354403,\n",
       "  'interaction': 0.0018937719287350774,\n",
       "  'proteins': 0.001676952000707388,\n",
       "  'structure': 0.001156346290372312,\n",
       "  'molecular glues': 0.00100641546305269,\n",
       "  'screening': 0.0008495220099575818,\n",
       "  'small molecules': 0.0005942380521446466,\n",
       "  'expression': 0.0005720073822885752,\n",
       "  'nucleic acids': 0.000517253007274121,\n",
       "  'characterization': 0.0003125299990642816,\n",
       "  'formulation': 0.0002467508311383426,\n",
       "  'carriers': 0.0002175989793613553,\n",
       "  'membrane proteins': 0.00019559076463337988,\n",
       "  'biologics': 0.00011466506839497015,\n",
       "  'stability': 0.00010379045124864206,\n",
       "  'peptides': 6.746776489308104e-05,\n",
       "  'engineering': 3.735232894541696e-05,\n",
       "  'quality': 3.0889565096003935e-05,\n",
       "  'idps': 2.7961941668763757e-05,\n",
       "  'enzymes': 2.2262609491008334e-05},\n",
       " {'developing': 0.0019490246195346117,\n",
       "  'proteins': 0.0005031844484619796,\n",
       "  'molecular glues': 0.00042241584742441773,\n",
       "  'antibodies': 0.000404791790060699,\n",
       "  'structure': 0.00040241560782305896,\n",
       "  'small molecules': 0.00027925005997531116,\n",
       "  'expression': 0.0002385694533586502,\n",
       "  'biologics': 0.00023355724988505244,\n",
       "  'formulation': 0.00020452446187846363,\n",
       "  'screening': 0.00014745074440725148,\n",
       "  'interaction': 0.0001463861990487203,\n",
       "  'carriers': 0.00014603082672692835,\n",
       "  'stability': 0.00013137509813532233,\n",
       "  'characterization': 0.0001023905206238851,\n",
       "  'membrane proteins': 6.559092435054481e-05,\n",
       "  'idps': 4.386100408737548e-05,\n",
       "  'nucleic acids': 4.244444062351249e-05,\n",
       "  'engineering': 3.052620741073042e-05,\n",
       "  'enzymes': 2.7024652808904648e-05,\n",
       "  'quality': 1.975598934222944e-05,\n",
       "  'peptides': 5.458458872453775e-06},\n",
       " {'molecular glues': 0.9783704876899719,\n",
       "  'small molecules': 0.9184739589691162,\n",
       "  'screening': 0.5275092720985413,\n",
       "  'developing': 0.3994098901748657,\n",
       "  'interaction': 0.3851924240589142,\n",
       "  'proteins': 0.12556356191635132,\n",
       "  'structure': 0.021155361086130142,\n",
       "  'stability': 0.017567532137036324,\n",
       "  'characterization': 0.010707659646868706,\n",
       "  'membrane proteins': 0.009527605026960373,\n",
       "  'biologics': 0.007158609107136726,\n",
       "  'enzymes': 0.006304585840553045,\n",
       "  'idps': 0.005364235024899244,\n",
       "  'antibodies': 0.005091649945825338,\n",
       "  'expression': 0.003119072876870632,\n",
       "  'formulation': 0.0024514731485396624,\n",
       "  'engineering': 0.0018021771684288979,\n",
       "  'quality': 0.0010690366616472602,\n",
       "  'nucleic acids': 0.000844772788695991,\n",
       "  'peptides': 0.0006525730132125318,\n",
       "  'carriers': 0.00027056169346906245},\n",
       " {'molecular glues': 0.9869967699050903,\n",
       "  'small molecules': 0.781469464302063,\n",
       "  'developing': 0.567326009273529,\n",
       "  'screening': 0.3864194452762604,\n",
       "  'interaction': 0.2551088333129883,\n",
       "  'proteins': 0.045805878937244415,\n",
       "  'characterization': 0.019328808411955833,\n",
       "  'biologics': 0.017812522128224373,\n",
       "  'structure': 0.009112599305808544,\n",
       "  'stability': 0.006581301800906658,\n",
       "  'idps': 0.005010376684367657,\n",
       "  'expression': 0.0040655978955328465,\n",
       "  'enzymes': 0.003387937555089593,\n",
       "  'antibodies': 0.0027945467736572027,\n",
       "  'nucleic acids': 0.0022443775087594986,\n",
       "  'membrane proteins': 0.0017607001354917884,\n",
       "  'quality': 0.0012814000947400928,\n",
       "  'engineering': 0.0009996064472943544,\n",
       "  'formulation': 0.0008778454503044486,\n",
       "  'carriers': 0.0003849515051115304,\n",
       "  'peptides': 0.0003733495541382581},\n",
       " {'developing': 0.0038371668197214603,\n",
       "  'proteins': 0.0009915351402014494,\n",
       "  'interaction': 0.0009744527051225305,\n",
       "  'antibodies': 0.0007342204917222261,\n",
       "  'molecular glues': 0.0006318381056189537,\n",
       "  'structure': 0.00034990126732736826,\n",
       "  'screening': 0.0003483062901068479,\n",
       "  'formulation': 0.0003469865187071264,\n",
       "  'small molecules': 0.000284187204670161,\n",
       "  'expression': 0.00025332538643851876,\n",
       "  'nucleic acids': 0.0002348277484998107,\n",
       "  'biologics': 0.00022500836348626763,\n",
       "  'characterization': 0.00018805939180310816,\n",
       "  'stability': 0.0001489844435127452,\n",
       "  'carriers': 0.0001271502987947315,\n",
       "  'idps': 8.245012577390298e-05,\n",
       "  'membrane proteins': 8.129900379572064e-05,\n",
       "  'quality': 3.6034005461260676e-05,\n",
       "  'peptides': 1.715066537144594e-05,\n",
       "  'engineering': 1.0156447387998924e-05,\n",
       "  'enzymes': 8.739558325032704e-06},\n",
       " {'developing': 0.31838080286979675,\n",
       "  'small molecules': 0.2550731897354126,\n",
       "  'molecular glues': 0.15370877087116241,\n",
       "  'screening': 0.04733643680810928,\n",
       "  'interaction': 0.041903167963027954,\n",
       "  'proteins': 0.038862474262714386,\n",
       "  'structure': 0.02869366481900215,\n",
       "  'antibodies': 0.005021099932491779,\n",
       "  'peptides': 0.003539822995662689,\n",
       "  'membrane proteins': 0.0020011209417134523,\n",
       "  'expression': 0.0019594987388700247,\n",
       "  'nucleic acids': 0.0016853404231369495,\n",
       "  'characterization': 0.0015786077128723264,\n",
       "  'idps': 0.0007277375552803278,\n",
       "  'formulation': 0.0006987542728893459,\n",
       "  'stability': 0.0006960926693864167,\n",
       "  'biologics': 0.0006307896692305803,\n",
       "  'quality': 0.0005169850774109364,\n",
       "  'engineering': 0.00024740665685385466,\n",
       "  'enzymes': 0.00013488314289133996,\n",
       "  'carriers': 0.00011547638132469729},\n",
       " {'molecular glues': 0.9838213920593262,\n",
       "  'small molecules': 0.8451816439628601,\n",
       "  'interaction': 0.6916370987892151,\n",
       "  'screening': 0.5366563200950623,\n",
       "  'developing': 0.3734491169452667,\n",
       "  'proteins': 0.28785040974617004,\n",
       "  'structure': 0.19988517463207245,\n",
       "  'characterization': 0.043468281626701355,\n",
       "  'enzymes': 0.017902767285704613,\n",
       "  'expression': 0.010670497082173824,\n",
       "  'antibodies': 0.00820313859730959,\n",
       "  'biologics': 0.006040297914296389,\n",
       "  'nucleic acids': 0.00408931402489543,\n",
       "  'peptides': 0.003981165587902069,\n",
       "  'stability': 0.0035800780169665813,\n",
       "  'carriers': 0.0032740593887865543,\n",
       "  'formulation': 0.003159190295264125,\n",
       "  'idps': 0.0028892953414469957,\n",
       "  'membrane proteins': 0.002367103472352028,\n",
       "  'quality': 0.0012379273539409041,\n",
       "  'engineering': 0.0011533101787790656},\n",
       " {'developing': 0.0008459101081825793,\n",
       "  'proteins': 0.000748511403799057,\n",
       "  'expression': 0.0007260684506036341,\n",
       "  'antibodies': 0.0005364609532989562,\n",
       "  'screening': 0.0003246815176680684,\n",
       "  'characterization': 0.00022861627803649753,\n",
       "  'molecular glues': 0.000219621229916811,\n",
       "  'formulation': 0.00018345068383496255,\n",
       "  'biologics': 0.00016799679724499583,\n",
       "  'small molecules': 0.00016773892275523394,\n",
       "  'interaction': 0.00016288668848574162,\n",
       "  'structure': 0.0001624141150387004,\n",
       "  'stability': 0.00015428422193508595,\n",
       "  'carriers': 0.00013983220560476184,\n",
       "  'membrane proteins': 8.162285666912794e-05,\n",
       "  'nucleic acids': 6.0029899032087997e-05,\n",
       "  'enzymes': 5.371583392843604e-05,\n",
       "  'engineering': 2.5757128241821192e-05,\n",
       "  'idps': 1.9816956410068087e-05,\n",
       "  'quality': 1.7718717572279274e-05,\n",
       "  'peptides': 1.5249754142132588e-05},\n",
       " {'molecular glues': 0.20024816691875458,\n",
       "  'interaction': 0.08461924642324448,\n",
       "  'proteins': 0.07488621026277542,\n",
       "  'developing': 0.06999377906322479,\n",
       "  'stability': 0.029866565018892288,\n",
       "  'idps': 0.014817017130553722,\n",
       "  'structure': 0.01237235963344574,\n",
       "  'formulation': 0.011546486988663673,\n",
       "  'characterization': 0.005007410887628794,\n",
       "  'small molecules': 0.004550341051071882,\n",
       "  'biologics': 0.0036258192267268896,\n",
       "  'screening': 0.0027023504953831434,\n",
       "  'expression': 0.001996682258322835,\n",
       "  'antibodies': 0.001876607071608305,\n",
       "  'membrane proteins': 0.0011387239210307598,\n",
       "  'carriers': 0.0003410599019844085,\n",
       "  'nucleic acids': 0.0003409620258025825,\n",
       "  'enzymes': 0.0003301999531686306,\n",
       "  'quality': 0.00024449583725072443,\n",
       "  'engineering': 9.711892198538408e-05,\n",
       "  'peptides': 6.793324428144842e-05},\n",
       " {'proteins': 0.00823011714965105,\n",
       "  'antibodies': 0.0032710263039916754,\n",
       "  'structure': 0.002886223839595914,\n",
       "  'interaction': 0.0025375867262482643,\n",
       "  'developing': 0.0024523502215743065,\n",
       "  'characterization': 0.0022938628681004047,\n",
       "  'screening': 0.0017222744645550847,\n",
       "  'enzymes': 0.00082674395525828,\n",
       "  'nucleic acids': 0.0008192230015993118,\n",
       "  'small molecules': 0.0007648814935237169,\n",
       "  'biologics': 0.0007623062701895833,\n",
       "  'molecular glues': 0.0007071650470606983,\n",
       "  'expression': 0.0006694484036415815,\n",
       "  'formulation': 0.0006673488533124328,\n",
       "  'stability': 0.0003110499819740653,\n",
       "  'engineering': 0.00029927605646662414,\n",
       "  'membrane proteins': 0.00029050849843770266,\n",
       "  'idps': 8.689847163623199e-05,\n",
       "  'carriers': 7.51393599784933e-05,\n",
       "  'quality': 4.4227934267837554e-05,\n",
       "  'peptides': 4.050513234687969e-05},\n",
       " {'small molecules': 0.06264979392290115,\n",
       "  'molecular glues': 0.05231639742851257,\n",
       "  'developing': 0.05061887204647064,\n",
       "  'interaction': 0.021696092560887337,\n",
       "  'screening': 0.007841147482395172,\n",
       "  'antibodies': 0.004294079728424549,\n",
       "  'enzymes': 0.0029795069713145494,\n",
       "  'proteins': 0.002966995583847165,\n",
       "  'biologics': 0.0022986542899161577,\n",
       "  'characterization': 0.0012774342903867364,\n",
       "  'structure': 0.0007698826375417411,\n",
       "  'stability': 0.0006932399701327085,\n",
       "  'membrane proteins': 0.0006183724035508931,\n",
       "  'nucleic acids': 0.00041262616286985576,\n",
       "  'idps': 0.0003822931903414428,\n",
       "  'carriers': 0.000271295546554029,\n",
       "  'formulation': 0.0002648469526320696,\n",
       "  'expression': 0.00022893279674462974,\n",
       "  'engineering': 0.00022685099975205958,\n",
       "  'quality': 0.0001220711856149137,\n",
       "  'peptides': 8.005631389096379e-05},\n",
       " {'structure': 0.9848858714103699,\n",
       "  'proteins': 0.9664421677589417,\n",
       "  'interaction': 0.21947641670703888,\n",
       "  'nucleic acids': 0.0899927020072937,\n",
       "  'small molecules': 0.06766943633556366,\n",
       "  'characterization': 0.03232952207326889,\n",
       "  'developing': 0.02380293235182762,\n",
       "  'idps': 0.023580655455589294,\n",
       "  'screening': 0.023213358595967293,\n",
       "  'expression': 0.012012391351163387,\n",
       "  'molecular glues': 0.010338188149034977,\n",
       "  'biologics': 0.007141656242311001,\n",
       "  'quality': 0.004809394478797913,\n",
       "  'formulation': 0.004481057170778513,\n",
       "  'engineering': 0.00436823908239603,\n",
       "  'membrane proteins': 0.004156755283474922,\n",
       "  'stability': 0.003017008537426591,\n",
       "  'enzymes': 0.0014625249896198511,\n",
       "  'antibodies': 0.0010644306894391775,\n",
       "  'carriers': 0.0006580586777999997,\n",
       "  'peptides': 0.00013289674825500697},\n",
       " {'antibodies': 0.7511197328567505,\n",
       "  'stability': 0.33404767513275146,\n",
       "  'characterization': 0.051428668200969696,\n",
       "  'biologics': 0.023356489837169647,\n",
       "  'interaction': 0.018998190760612488,\n",
       "  'developing': 0.017146330326795578,\n",
       "  'formulation': 0.007512472569942474,\n",
       "  'screening': 0.007446578703820705,\n",
       "  'quality': 0.0033435390796512365,\n",
       "  'proteins': 0.0033409087918698788,\n",
       "  'small molecules': 0.0023011916782706976,\n",
       "  'engineering': 0.002133919158950448,\n",
       "  'molecular glues': 0.0014719063183292747,\n",
       "  'carriers': 0.0013563663233071566,\n",
       "  'expression': 0.0011338017648085952,\n",
       "  'structure': 0.0009836198296397924,\n",
       "  'idps': 0.0009812481002882123,\n",
       "  'nucleic acids': 0.0008301087073050439,\n",
       "  'peptides': 0.0006296724895946681,\n",
       "  'membrane proteins': 0.0005671624094247818,\n",
       "  'enzymes': 8.913820056477562e-05}]"
      ]
     },
     "execution_count": null,
     "metadata": {},
     "output_type": "execute_result"
    }
   ],
   "source": [
    "results"
   ]
  },
  {
   "cell_type": "code",
   "execution_count": null,
   "id": "b9dc6b61-dede-49a0-83fb-d602c98ad8e5",
   "metadata": {},
   "outputs": [],
   "source": [
    "soup = BeautifulSoup(driver.driver.page_source, 'html.parser').text"
   ]
  },
  {
   "cell_type": "code",
   "execution_count": null,
   "id": "b2d8d4f9-04c2-4292-acc6-c677f5fc0443",
   "metadata": {},
   "outputs": [
    {
     "data": {
      "text/plain": [
       "' Patrick Aloy | IRB Barcelona Skip to main content Home About us Research Innovation Careers Outreach News Events Community Donate Shop CATENGESP Search icon Search Close icon Close Search icon Search CATENGESP Research At the forefront of biomedicine Image About us Research Careers Donate Research challenges Research programmes Research nodes Core Facilities & Services LinkedInFacebookTwitterShare Home Dr. Patrick Aloy Image Unit: Mechanisms of Disease Position: Group Leader Office: CL01C72-73 Telephone: +34 93 40 39690 Email: paloy@irbbarcelona.org ICREA Research Professor, ERC Consolidator Grant Image Image Research Group Structural Bioinformatics and Network Biology Mechanisms of Disease Born in Barcelona in 1972. He obtained his BSc in Biochemistry (1996), MSc in Biotechnology (1998) and PhD in Biochemistry & Molecular Biology (2000) from the Autonomous University of Barcelona. He then joined the Structural Bioinformatics Group at the European Molecular Biology Laboratory (2001) where he did his postdoctoral training and became Staff Scientist (2003). Since April 2006, Patrick Aloy is an ICREA Research Professor and Principal Investigator of the Structural Bioinformatics Lab in the Institute for Research in Biomedicine (IRB Barcelona). His main scientific interests are in the field of structural bioinformatics, in particular, the use of high-resolution three-dimensional structures to reveal the molecular details of how macromolecular complexes and cell networks operate. Current researcher\\'s video Patrick Aloy: \"Networks of Life\" Selected group publications Personalized cancer therapy prioritization based on driver alteration co-occurrence patternsMateo L; Duran-Frigola M; Gris-Oliver A; Palafox M; Scaltriti M; Razavi P; Chandarlapaty S; Arribas J; Bellet M; Serra V; Aloy PGenome Medicine12(1 )78 - (2020)Extending the small-molecule similarity principle to all levels of biology with the Chemical CheckerDuran-Frigola, M; Pauls, E; Guitart-Pla, O; Bertoni, M; Alcalde, V; Amat, D; Juan-Blanco, T; Aloy, PNature Biotechnology38(9 )1087 -+(2020)A reference map of the human binary protein interactomeLuck K; Kim DK; Lambourne L; Spirohn K; Begg BE; Bian W; Brignall R; Cafarelli T; Campos-Laborie FJ; Charloteaux B; Choi D; Coté AG; Daley M; Deimling S; Desbuleux A; Dricot A; Gebbia M; Hardy MF; Kishore N; Knapp JJ; Kovács IA; Lemmens I; Mee MW; Mellor JC; Pollis C; Pons C; Richardson AD; Schlabach S; Teeking B; Yadav A; Babor M; Balcha D; Basha O; Bowman-Colin C; Chin SF; Choi SG; Colabella C; Coppin G; D’Amata C; De Ridder D; Luck K; Kim DK; Lambourne L; Spirohn K; Begg BE; Bian W; Brignall R; Cafarelli T; Campos-Laborie FJ; Charloteaux B; Choi D; Coté AG; Daley M; Deimling S; Desbuleux A; Dricot A; Gebbia M; Hardy MF; Kishore N; Knapp JJ; Kovács IA; Lemmens I; Mee MW; Mellor JC; Pollis C; Pons C; Richardson AD; Schlabach S; Teeking B; Yadav A; Babor M; Balcha D; Basha O; Bowman-Colin C; Chin SF; Choi SG; Colabella C; Coppin G; D’Amata C; De Ridder D; Luck K; Kim DK; Lambourne L; Spirohn K; Begg BE; Bian W; Brignall R; Cafarelli TNature580(7803 )402 -+(2020)Bioactivity descriptors for uncharacterized chemical compoundsBertoni M; Duran-Frigola M; Badia-i-Mompel P; Pauls E; Orozco-Ruiz M; Guitart-Pla O; Alcalde V; Diaz VM; Berenguer-Llergo A; Brun-Heath I; Villegas N; de Herreros AG; Aloy PNature Communications12(1 )3932 - (2021)Environmental robustness of the global yeast genetic interaction networkCostanzo M; Hou J; Messier V; Nelson J; Rahman M; VanderSluis B; Wang W; Pons C; Ross C; Ušaj M; San Luis BJ; Shuteriqi E; Koch EN; Aloy P; Myers CL; Boone C; Andrews BScience372(6542 )589 -+(2021)Personalized cancer therapy prioritization based on driver alteration co-occurrence patternsMateo L; Duran-Frigola M; Gris-Oliver A; Palafox M; Scaltriti M; Razavi P; Chandarlapaty S; Arribas J; Bellet M; Serra V; Aloy PGenome Medicine12(1 )78 - (2020)Extending the small-molecule similarity principle to all levels of biology with the Chemical CheckerDuran-Frigola, M; Pauls, E; Guitart-Pla, O; Bertoni, M; Alcalde, V; Amat, D; Juan-Blanco, T; Aloy, PNature Biotechnology38(9 )1087 -+(2020)A reference map of the human binary protein interactomeLuck K; Kim DK; Lambourne L; Spirohn K; Begg BE; Bian W; Brignall R; Cafarelli T; Campos-Laborie FJ; Charloteaux B; Choi D; Coté AG; Daley M; Deimling S; Desbuleux A; Dricot A; Gebbia M; Hardy MF; Kishore N; Knapp JJ; Kovács IA; Lemmens I; Mee MW; Mellor JC; Pollis C; Pons C; Richardson AD; Schlabach S; Teeking B; Yadav A; Babor M; Balcha D; Basha O; Bowman-Colin C; Chin SF; Choi SG; Colabella C; Coppin G; D’Amata C; De Ridder D; Luck K; Kim DK; Lambourne L; Spirohn K; Begg BE; Bian W; Brignall R; Cafarelli T; Campos-Laborie FJ; Charloteaux B; Choi D; Coté AG; Daley M; Deimling S; Desbuleux A; Dricot A; Gebbia M; Hardy MF; Kishore N; Knapp JJ; Kovács IA; Lemmens I; Mee MW; Mellor JC; Pollis C; Pons C; Richardson AD; Schlabach S; Teeking B; Yadav A; Babor M; Balcha D; Basha O; Bowman-Colin C; Chin SF; Choi SG; Colabella C; Coppin G; D’Amata C; De Ridder D; Luck K; Kim DK; Lambourne L; Spirohn K; Begg BE; Bian W; Brignall R; Cafarelli TNature580(7803 )402 -+(2020)Bioactivity descriptors for uncharacterized chemical compoundsBertoni M; Duran-Frigola M; Badia-i-Mompel P; Pauls E; Orozco-Ruiz M; Guitart-Pla O; Alcalde V; Diaz VM; Berenguer-Llergo A; Brun-Heath I; Villegas N; de Herreros AG; Aloy PNature Communications12(1 )3932 - (2021)Environmental robustness of the global yeast genetic interaction networkCostanzo M; Hou J; Messier V; Nelson J; Rahman M; VanderSluis B; Wang W; Pons C; Ross C; Ušaj M; San Luis BJ; Shuteriqi E; Koch EN; Aloy P; Myers CL; Boone C; Andrews BScience372(6542 )589 -+(2021)Personalized cancer therapy prioritization based on driver alteration co-occurrence patternsMateo L; Duran-Frigola M; Gris-Oliver A; Palafox M; Scaltriti M; Razavi P; Chandarlapaty S; Arribas J; Bellet M; Serra V; Aloy PGenome Medicine12(1 )78 - (2020) See IRB selected publications Trustees: Image Image Image Image A member of: Image Center: Image Recognised by: Image SVG Quick Links Scientific Publications Intranet Transparency portal Procurements Human Resource Excellence Blog Job Openings Media Mentions Eduroam Twitter Tweets by IRB Barcelona Subscribe to News Keep up on our always evolving product features and technology. Enter your e-mail and subscribe to our newsletter. Subscribe now Contact Us Parc Científic de Barcelona C/ Baldiri Reixac 10 08028 Barcelona, Spain Phone: +34 93 402 02 50 Email: info@irbbarcelona.org Social links Twitter linkTwitter Facebook linkFacebook Instagram linkInstagram Youtube linkYoutube Linkedin linkLinkedin \\xa0© Copyright 2021. All Rights Reserved. Legal disclaimer Cookies policy Privacy policy General Terms and Conditions Transparency Portal \\xa0 ✓Thanks for sharing!AddToAnyMore… '"
      ]
     },
     "execution_count": null,
     "metadata": {},
     "output_type": "execute_result"
    }
   ],
   "source": [
    "rm_useless_spaces(soup.replace('\\n',' '))"
   ]
  },
  {
   "cell_type": "code",
   "execution_count": null,
   "id": "3099ce3c-56f7-4e9a-8dbc-538325f2538d",
   "metadata": {},
   "outputs": [],
   "source": []
  },
  {
   "cell_type": "code",
   "execution_count": null,
   "id": "8373a6d5-e55e-4d86-a9f1-448cb15dd1ea",
   "metadata": {},
   "outputs": [],
   "source": []
  },
  {
   "cell_type": "code",
   "execution_count": null,
   "id": "87d33b0a-59c2-43a2-a2a9-83af9c09c650",
   "metadata": {},
   "outputs": [
    {
     "data": {
      "text/plain": [
       "'https://www.fmi.ch/research-groups/groupleader.html?group=118'"
      ]
     },
     "execution_count": null,
     "metadata": {},
     "output_type": "execute_result"
    }
   ],
   "source": [
    "x[-2].find_element(By.TAG_NAME, 'a').get_property('href')"
   ]
  },
  {
   "cell_type": "code",
   "execution_count": null,
   "id": "446d21a5-41fb-4b2b-b87f-af0aba040639",
   "metadata": {},
   "outputs": [
    {
     "ename": "AttributeError",
     "evalue": "'WebElement' object has no attribute 'div'",
     "output_type": "error",
     "traceback": [
      "\u001b[0;31m---------------------------------------------------------------------------\u001b[0m",
      "\u001b[0;31mAttributeError\u001b[0m                            Traceback (most recent call last)",
      "\u001b[0;32m/var/folders/8v/lv57p6414hxgcf89_gbsg4f00000gn/T/ipykernel_14191/314401205.py\u001b[0m in \u001b[0;36m<module>\u001b[0;34m\u001b[0m\n\u001b[0;32m----> 1\u001b[0;31m \u001b[0mtmp\u001b[0m\u001b[0;34m.\u001b[0m\u001b[0mdiv\u001b[0m\u001b[0;34m\u001b[0m\u001b[0;34m\u001b[0m\u001b[0m\n\u001b[0m",
      "\u001b[0;31mAttributeError\u001b[0m: 'WebElement' object has no attribute 'div'"
     ]
    }
   ],
   "source": [
    "tmp.div"
   ]
  },
  {
   "cell_type": "code",
   "execution_count": null,
   "id": "4c572bdb-a398-4cf2-81fa-e8e1f859cd04",
   "metadata": {},
   "outputs": [
    {
     "ename": "AttributeError",
     "evalue": "'WebElement' object has no attribute 'div'",
     "output_type": "error",
     "traceback": [
      "\u001b[0;31m---------------------------------------------------------------------------\u001b[0m",
      "\u001b[0;31mAttributeError\u001b[0m                            Traceback (most recent call last)",
      "\u001b[0;32m/var/folders/8v/lv57p6414hxgcf89_gbsg4f00000gn/T/ipykernel_14191/2508512007.py\u001b[0m in \u001b[0;36m<module>\u001b[0;34m\u001b[0m\n\u001b[0;32m----> 1\u001b[0;31m \u001b[0;34m[\u001b[0m\u001b[0my\u001b[0m\u001b[0;34m.\u001b[0m\u001b[0mdiv\u001b[0m\u001b[0;34m.\u001b[0m\u001b[0mp\u001b[0m \u001b[0;32mfor\u001b[0m \u001b[0my\u001b[0m \u001b[0;32min\u001b[0m \u001b[0mx\u001b[0m \u001b[0;32mif\u001b[0m \u001b[0my\u001b[0m\u001b[0;34m.\u001b[0m\u001b[0mtext\u001b[0m \u001b[0;34m!=\u001b[0m \u001b[0;34m''\u001b[0m \u001b[0;34m]\u001b[0m\u001b[0;34m\u001b[0m\u001b[0;34m\u001b[0m\u001b[0m\n\u001b[0m",
      "\u001b[0;32m/var/folders/8v/lv57p6414hxgcf89_gbsg4f00000gn/T/ipykernel_14191/2508512007.py\u001b[0m in \u001b[0;36m<listcomp>\u001b[0;34m(.0)\u001b[0m\n\u001b[0;32m----> 1\u001b[0;31m \u001b[0;34m[\u001b[0m\u001b[0my\u001b[0m\u001b[0;34m.\u001b[0m\u001b[0mdiv\u001b[0m\u001b[0;34m.\u001b[0m\u001b[0mp\u001b[0m \u001b[0;32mfor\u001b[0m \u001b[0my\u001b[0m \u001b[0;32min\u001b[0m \u001b[0mx\u001b[0m \u001b[0;32mif\u001b[0m \u001b[0my\u001b[0m\u001b[0;34m.\u001b[0m\u001b[0mtext\u001b[0m \u001b[0;34m!=\u001b[0m \u001b[0;34m''\u001b[0m \u001b[0;34m]\u001b[0m\u001b[0;34m\u001b[0m\u001b[0;34m\u001b[0m\u001b[0m\n\u001b[0m",
      "\u001b[0;31mAttributeError\u001b[0m: 'WebElement' object has no attribute 'div'"
     ]
    }
   ],
   "source": [
    "[y.div.p for y in x if y.text != '' ]"
   ]
  },
  {
   "cell_type": "code",
   "execution_count": null,
   "id": "d15fad83-c4bc-4e98-9b43-3af8199963cf",
   "metadata": {},
   "outputs": [],
   "source": []
  }
 ],
 "metadata": {
  "kernelspec": {
   "display_name": "fast.ai",
   "language": "python",
   "name": "fast.ai"
  }
 },
 "nbformat": 4,
 "nbformat_minor": 5
}
