{
 "cells": [
  {
   "cell_type": "code",
   "execution_count": 67,
   "metadata": {},
   "outputs": [],
   "source": [
    "import pandas as pd\n",
    "import requests\n",
    "from bs4 import BeautifulSoup\n",
    "from pathlib import Path"
   ]
  },
  {
   "cell_type": "code",
   "execution_count": 68,
   "metadata": {},
   "outputs": [],
   "source": [
    "path_data = Path('/Volumes/Users/matu/Documents/Xcode/Datasets/Web/biopharmguy')"
   ]
  },
  {
   "cell_type": "code",
   "execution_count": 56,
   "metadata": {},
   "outputs": [],
   "source": [
    "pd.set_option('display.max_colwidth',500)"
   ]
  },
  {
   "cell_type": "code",
   "execution_count": 58,
   "metadata": {},
   "outputs": [],
   "source": [
    "response = requests.get('https://biopharmguy.com/links/company-by-location-small-molecules.php')"
   ]
  },
  {
   "cell_type": "code",
   "execution_count": 59,
   "metadata": {},
   "outputs": [
    {
     "data": {
      "text/plain": [
       "200"
      ]
     },
     "execution_count": 59,
     "metadata": {},
     "output_type": "execute_result"
    }
   ],
   "source": [
    "response.status_code"
   ]
  },
  {
   "cell_type": "code",
   "execution_count": 60,
   "metadata": {},
   "outputs": [],
   "source": [
    "soup = BeautifulSoup(response.content, 'html5')"
   ]
  },
  {
   "cell_type": "code",
   "execution_count": 61,
   "metadata": {},
   "outputs": [],
   "source": [
    "table = soup.find('table', attrs={'class':\"rightLinks\"})"
   ]
  },
  {
   "cell_type": "code",
   "execution_count": 62,
   "metadata": {},
   "outputs": [],
   "source": [
    "rows = table.find_all('tr')"
   ]
  },
  {
   "cell_type": "code",
   "execution_count": 64,
   "metadata": {},
   "outputs": [],
   "source": [
    "companies = []\n",
    "for row in rows:\n",
    "    data = {}\n",
    "    columns = row.findAll('td')\n",
    "    for column in columns:\n",
    "        tag = column.get('class')[0]\n",
    "        if tag == 'company':\n",
    "            for a in column.findAll('a'):\n",
    "                if a.has_attr('onclick'):\n",
    "                    data['website'] = a.get('href')\n",
    "                    try:\n",
    "                        data['company'] = a.img.get('alt')\n",
    "                    except:\n",
    "                        data['company'] = a.getText().strip(' ')\n",
    "        elif tag == 'location':\n",
    "            try:\n",
    "                data['state_country'], data['city'] = column.getText().strip(' ').split(' - ')\n",
    "            except:\n",
    "                data['city'] = column.getText().strip(' ')\n",
    "        elif tag == 'description':\n",
    "            data['description'] = column.getText().strip(' \\n\\r')\n",
    "    \n",
    "    companies.append(data)\n",
    "        "
   ]
  },
  {
   "cell_type": "code",
   "execution_count": 65,
   "metadata": {},
   "outputs": [],
   "source": [
    "df = pd.DataFrame(companies)"
   ]
  },
  {
   "cell_type": "code",
   "execution_count": 69,
   "metadata": {},
   "outputs": [],
   "source": [
    "df.to_csv(path_data/'small_molecules.csv', index=False)"
   ]
  },
  {
   "cell_type": "code",
   "execution_count": 70,
   "metadata": {},
   "outputs": [
    {
     "data": {
      "text/html": [
       "<div>\n",
       "<style scoped>\n",
       "    .dataframe tbody tr th:only-of-type {\n",
       "        vertical-align: middle;\n",
       "    }\n",
       "\n",
       "    .dataframe tbody tr th {\n",
       "        vertical-align: top;\n",
       "    }\n",
       "\n",
       "    .dataframe thead th {\n",
       "        text-align: right;\n",
       "    }\n",
       "</style>\n",
       "<table border=\"1\" class=\"dataframe\">\n",
       "  <thead>\n",
       "    <tr style=\"text-align: right;\">\n",
       "      <th></th>\n",
       "      <th>website</th>\n",
       "      <th>company</th>\n",
       "      <th>state_country</th>\n",
       "      <th>city</th>\n",
       "      <th>description</th>\n",
       "    </tr>\n",
       "  </thead>\n",
       "  <tbody>\n",
       "    <tr>\n",
       "      <th>0</th>\n",
       "      <td>https://nexuspharm.com/</td>\n",
       "      <td>NexusPharma</td>\n",
       "      <td>PA</td>\n",
       "      <td>Philadelphia</td>\n",
       "      <td>NexusPharma - Oncology CRO with extensively characterized PDX models in over 15 cancer indications, database of compounds and their activities in various patient derived xenograft PDX tumor models or patient derived tumor cell lines.</td>\n",
       "    </tr>\n",
       "    <tr>\n",
       "      <th>1</th>\n",
       "      <td>https://www.avaliv.com/</td>\n",
       "      <td>Avaliv Therapeutics</td>\n",
       "      <td>NaN</td>\n",
       "      <td>-</td>\n",
       "      <td>Small molecule therapeutics targeting inflammation and fibrosis related disorders</td>\n",
       "    </tr>\n",
       "    <tr>\n",
       "      <th>2</th>\n",
       "      <td>http://www.imago-pharma.com/imago-pharmaceuticals.html</td>\n",
       "      <td>Imago Pharmaceuticals</td>\n",
       "      <td>NaN</td>\n",
       "      <td>-</td>\n",
       "      <td>JNK-directed novel therapies</td>\n",
       "    </tr>\n",
       "    <tr>\n",
       "      <th>3</th>\n",
       "      <td>https://serentrix.com/</td>\n",
       "      <td>Serentrix</td>\n",
       "      <td>NaN</td>\n",
       "      <td>-</td>\n",
       "      <td>Small Molecule Pain Relief</td>\n",
       "    </tr>\n",
       "    <tr>\n",
       "      <th>4</th>\n",
       "      <td>https://www.viridia.life/</td>\n",
       "      <td>Viridia Life Sciences</td>\n",
       "      <td>NaN</td>\n",
       "      <td>-</td>\n",
       "      <td>Psychedelics as Therapy</td>\n",
       "    </tr>\n",
       "  </tbody>\n",
       "</table>\n",
       "</div>"
      ],
      "text/plain": [
       "                                                  website  \\\n",
       "0                                 https://nexuspharm.com/   \n",
       "1                                 https://www.avaliv.com/   \n",
       "2  http://www.imago-pharma.com/imago-pharmaceuticals.html   \n",
       "3                                  https://serentrix.com/   \n",
       "4                               https://www.viridia.life/   \n",
       "\n",
       "                 company state_country          city  \\\n",
       "0            NexusPharma            PA  Philadelphia   \n",
       "1    Avaliv Therapeutics           NaN             -   \n",
       "2  Imago Pharmaceuticals           NaN             -   \n",
       "3              Serentrix           NaN             -   \n",
       "4  Viridia Life Sciences           NaN             -   \n",
       "\n",
       "                                                                                                                                                                                                                                   description  \n",
       "0  NexusPharma - Oncology CRO with extensively characterized PDX models in over 15 cancer indications, database of compounds and their activities in various patient derived xenograft PDX tumor models or patient derived tumor cell lines.    \n",
       "1                                                                                                                                                            Small molecule therapeutics targeting inflammation and fibrosis related disorders  \n",
       "2                                                                                                                                                                                                                 JNK-directed novel therapies  \n",
       "3                                                                                                                                                                                                                   Small Molecule Pain Relief  \n",
       "4                                                                                                                                                                                                                      Psychedelics as Therapy  "
      ]
     },
     "execution_count": 70,
     "metadata": {},
     "output_type": "execute_result"
    }
   ],
   "source": [
    "df.head()"
   ]
  },
  {
   "cell_type": "code",
   "execution_count": null,
   "metadata": {},
   "outputs": [],
   "source": []
  }
 ],
 "metadata": {
  "kernelspec": {
   "display_name": "Python 3",
   "language": "python",
   "name": "python3"
  },
  "language_info": {
   "codemirror_mode": {
    "name": "ipython",
    "version": 3
   },
   "file_extension": ".py",
   "mimetype": "text/x-python",
   "name": "python",
   "nbconvert_exporter": "python",
   "pygments_lexer": "ipython3",
   "version": "3.7.4"
  }
 },
 "nbformat": 4,
 "nbformat_minor": 4
}
